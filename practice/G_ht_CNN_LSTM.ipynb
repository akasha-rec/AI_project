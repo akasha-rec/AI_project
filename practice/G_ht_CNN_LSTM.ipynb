{
 "cells": [
  {
   "cell_type": "code",
   "execution_count": 1,
   "metadata": {},
   "outputs": [],
   "source": [
    "import pandas as pd\n",
    "import numpy as np\n",
    "import torch\n",
    "import torch.nn as nn\n",
    "\n",
    "from tqdm import tqdm\n",
    "\n",
    "from sklearn.preprocessing import MinMaxScaler\n",
    "\n",
    "from sklearn.metrics import mean_squared_error\n",
    "\n",
    "import torch.optim as optim\n",
    "\n",
    "from datetime import datetime as dt\n",
    "\n",
    "import matplotlib.pyplot as plt"
   ]
  },
  {
   "cell_type": "code",
   "execution_count": 32,
   "metadata": {},
   "outputs": [],
   "source": [
    "pd.set_option('display.float_format', '{:.3f}'.format)"
   ]
  },
  {
   "cell_type": "code",
   "execution_count": 2,
   "metadata": {},
   "outputs": [],
   "source": [
    "g1 = pd.read_csv('data/G(배) 수위#1 (F_CV).csv', header=None)\n",
    "g1.columns = ['date', 'height1']\n",
    "\n",
    "g2 = pd.read_csv('data/G(배) 수위#2 (F_CV).csv', header=None)\n",
    "g2.columns = ['date', 'height2']"
   ]
  },
  {
   "cell_type": "code",
   "execution_count": 35,
   "metadata": {},
   "outputs": [
    {
     "data": {
      "text/plain": [
       "(                  date  height1  height2\n",
       " 0  2018-01-01 00:01:00    3.407    3.416\n",
       " 1  2018-01-01 00:02:00    3.407    3.416\n",
       " 2  2018-01-01 00:03:00    3.407    3.416\n",
       " 3  2018-01-01 00:04:00    3.397    3.417\n",
       " 4  2018-01-01 00:05:00    3.397    3.416,\n",
       "           height1     height2\n",
       " count 2624769.000 2624769.000\n",
       " mean        3.491       3.507\n",
       " std         0.328       0.317\n",
       " min         0.000       0.000\n",
       " 25%         3.355       3.366\n",
       " 50%         3.527       3.543\n",
       " 75%         3.696       3.712\n",
       " max         4.100       4.096)"
      ]
     },
     "execution_count": 35,
     "metadata": {},
     "output_type": "execute_result"
    }
   ],
   "source": [
    "merged_df = pd.merge(g1, g2, on='date')\n",
    "merged_df.head(), merged_df.describe()"
   ]
  },
  {
   "cell_type": "code",
   "execution_count": 34,
   "metadata": {},
   "outputs": [
    {
     "data": {
      "text/plain": [
       "(0          False\n",
       " 1          False\n",
       " 2          False\n",
       " 3          False\n",
       " 4          False\n",
       "            ...  \n",
       " 2624764    False\n",
       " 2624765    False\n",
       " 2624766    False\n",
       " 2624767    False\n",
       " 2624768    False\n",
       " Name: height1, Length: 2624769, dtype: bool,\n",
       " 0          False\n",
       " 1          False\n",
       " 2          False\n",
       " 3          False\n",
       " 4          False\n",
       "            ...  \n",
       " 2624764    False\n",
       " 2624765    False\n",
       " 2624766    False\n",
       " 2624767    False\n",
       " 2624768    False\n",
       " Name: height2, Length: 2624769, dtype: bool)"
      ]
     },
     "execution_count": 34,
     "metadata": {},
     "output_type": "execute_result"
    }
   ],
   "source": [
    "merged_df['height1'] < 0, merged_df['height2'] < 0"
   ]
  },
  {
   "cell_type": "code",
   "execution_count": 5,
   "metadata": {},
   "outputs": [
    {
     "data": {
      "text/plain": [
       "date       0\n",
       "height1    0\n",
       "height2    0\n",
       "dtype: int64"
      ]
     },
     "execution_count": 5,
     "metadata": {},
     "output_type": "execute_result"
    }
   ],
   "source": [
    "merged_df.isna().sum()"
   ]
  },
  {
   "cell_type": "code",
   "execution_count": 36,
   "metadata": {},
   "outputs": [],
   "source": [
    "merged_df['date'] = pd.to_datetime(merged_df['date'])\n",
    "merged_df.set_index('date', inplace=True)"
   ]
  },
  {
   "cell_type": "code",
   "execution_count": 37,
   "metadata": {},
   "outputs": [
    {
     "data": {
      "text/plain": [
       "(                     height1  height2\n",
       " date                                 \n",
       " 2018-01-01 00:00:00    3.348    3.360\n",
       " 2018-01-01 01:00:00    3.235    3.246\n",
       " 2018-01-01 02:00:00    3.262    3.274\n",
       " 2018-01-01 03:00:00    3.341    3.353\n",
       " 2018-01-01 04:00:00    3.419    3.431,\n",
       "                      height1  height2\n",
       " date                                 \n",
       " 2022-12-31 19:00:00    3.351    3.363\n",
       " 2022-12-31 20:00:00    3.388    3.401\n",
       " 2022-12-31 21:00:00    3.393    3.407\n",
       " 2022-12-31 22:00:00    3.359    3.373\n",
       " 2022-12-31 23:00:00    3.348    3.366)"
      ]
     },
     "execution_count": 37,
     "metadata": {},
     "output_type": "execute_result"
    }
   ],
   "source": [
    "merged_df = merged_df.resample('h').mean()\n",
    "merged_df.head(), merged_df.tail()"
   ]
  },
  {
   "cell_type": "code",
   "execution_count": 8,
   "metadata": {},
   "outputs": [
    {
     "data": {
      "text/plain": [
       "pandas.core.frame.DataFrame"
      ]
     },
     "execution_count": 8,
     "metadata": {},
     "output_type": "execute_result"
    }
   ],
   "source": [
    "type(merged_df)"
   ]
  },
  {
   "cell_type": "code",
   "execution_count": 9,
   "metadata": {},
   "outputs": [
    {
     "name": "stdout",
     "output_type": "stream",
     "text": [
      "                       height\n",
      "date                         \n",
      "2018-01-01 00:00:00  3.354141\n",
      "2018-01-01 01:00:00  3.240187\n",
      "2018-01-01 02:00:00  3.267999\n",
      "2018-01-01 03:00:00  3.346774\n",
      "2018-01-01 04:00:00  3.424741\n",
      "...                       ...\n",
      "2022-12-31 19:00:00  3.357266\n",
      "2022-12-31 20:00:00  3.394401\n",
      "2022-12-31 21:00:00  3.399968\n",
      "2022-12-31 22:00:00  3.366247\n",
      "2022-12-31 23:00:00  3.357088\n",
      "\n",
      "[43824 rows x 1 columns]\n"
     ]
    }
   ],
   "source": [
    "merged_df['height'] = merged_df[['height1', 'height2']].mean(axis=1)\n",
    "merged_df = merged_df[['height']]\n",
    "print(merged_df)"
   ]
  },
  {
   "cell_type": "code",
   "execution_count": 10,
   "metadata": {},
   "outputs": [
    {
     "data": {
      "text/plain": [
       "height    63\n",
       "dtype: int64"
      ]
     },
     "execution_count": 10,
     "metadata": {},
     "output_type": "execute_result"
    }
   ],
   "source": [
    "merged_df.isna().sum()"
   ]
  },
  {
   "cell_type": "code",
   "execution_count": 11,
   "metadata": {},
   "outputs": [
    {
     "data": {
      "text/html": [
       "<div>\n",
       "<style scoped>\n",
       "    .dataframe tbody tr th:only-of-type {\n",
       "        vertical-align: middle;\n",
       "    }\n",
       "\n",
       "    .dataframe tbody tr th {\n",
       "        vertical-align: top;\n",
       "    }\n",
       "\n",
       "    .dataframe thead th {\n",
       "        text-align: right;\n",
       "    }\n",
       "</style>\n",
       "<table border=\"1\" class=\"dataframe\">\n",
       "  <thead>\n",
       "    <tr style=\"text-align: right;\">\n",
       "      <th></th>\n",
       "      <th>height</th>\n",
       "    </tr>\n",
       "  </thead>\n",
       "  <tbody>\n",
       "    <tr>\n",
       "      <th>count</th>\n",
       "      <td>43761.000000</td>\n",
       "    </tr>\n",
       "    <tr>\n",
       "      <th>mean</th>\n",
       "      <td>3.498830</td>\n",
       "    </tr>\n",
       "    <tr>\n",
       "      <th>std</th>\n",
       "      <td>0.305143</td>\n",
       "    </tr>\n",
       "    <tr>\n",
       "      <th>min</th>\n",
       "      <td>0.000000</td>\n",
       "    </tr>\n",
       "    <tr>\n",
       "      <th>25%</th>\n",
       "      <td>3.358453</td>\n",
       "    </tr>\n",
       "    <tr>\n",
       "      <th>50%</th>\n",
       "      <td>3.533743</td>\n",
       "    </tr>\n",
       "    <tr>\n",
       "      <th>75%</th>\n",
       "      <td>3.701384</td>\n",
       "    </tr>\n",
       "    <tr>\n",
       "      <th>max</th>\n",
       "      <td>4.090788</td>\n",
       "    </tr>\n",
       "  </tbody>\n",
       "</table>\n",
       "</div>"
      ],
      "text/plain": [
       "             height\n",
       "count  43761.000000\n",
       "mean       3.498830\n",
       "std        0.305143\n",
       "min        0.000000\n",
       "25%        3.358453\n",
       "50%        3.533743\n",
       "75%        3.701384\n",
       "max        4.090788"
      ]
     },
     "execution_count": 11,
     "metadata": {},
     "output_type": "execute_result"
    }
   ],
   "source": [
    "merged_df.describe()"
   ]
  },
  {
   "cell_type": "code",
   "execution_count": 12,
   "metadata": {},
   "outputs": [],
   "source": [
    "# 선형식 보간법\n",
    "# merged_df['height'].interpolate(method='linear', inplace=True)\n",
    "\n",
    "# 다항식 보간법\n",
    "merged_df['height'] = merged_df['height'].interpolate(method='polynomial', order=2)"
   ]
  },
  {
   "cell_type": "code",
   "execution_count": 13,
   "metadata": {},
   "outputs": [],
   "source": [
    "train_size = 0.7\n",
    "val_size = 0.15\n",
    "test_size = 0.15\n",
    "\n",
    "train_split = int(train_size * len(merged_df))\n",
    "val_split = int((train_size + val_size) * len(merged_df))"
   ]
  },
  {
   "cell_type": "code",
   "execution_count": 44,
   "metadata": {},
   "outputs": [
    {
     "data": {
      "text/plain": [
       "(                     height1  height2\n",
       " date                                 \n",
       " 2021-07-01 23:00:00    3.876    3.886\n",
       " 2021-07-02 00:00:00    3.803    3.814\n",
       " 2021-07-02 01:00:00    3.699    3.710\n",
       " 2021-07-02 02:00:00    3.599    3.610\n",
       " 2021-07-02 03:00:00    3.500    3.512,\n",
       "                      height1  height2\n",
       " date                                 \n",
       " 2022-04-01 21:00:00    3.201    3.214\n",
       " 2022-04-01 22:00:00    3.187    3.201\n",
       " 2022-04-01 23:00:00    3.239    3.250\n",
       " 2022-04-02 00:00:00    3.320    3.332\n",
       " 2022-04-02 01:00:00    3.410    3.422)"
      ]
     },
     "execution_count": 44,
     "metadata": {},
     "output_type": "execute_result"
    }
   ],
   "source": [
    "train_data = merged_df[:train_split]\n",
    "val_data = merged_df[train_split:val_split]\n",
    "test_data = merged_df[val_split:]\n",
    "\n",
    "train_data[:-5], val_data[:-5], test_data[:-5]"
   ]
  },
  {
   "cell_type": "code",
   "execution_count": 39,
   "metadata": {},
   "outputs": [
    {
     "name": "stdout",
     "output_type": "stream",
     "text": [
      "NaN values in train_data before scaling: 126\n",
      "NaN values in val_data before scaling: 0\n",
      "NaN values in test_data before scaling: 0\n"
     ]
    }
   ],
   "source": [
    "# NaN 값 확인\n",
    "print(\"NaN values in train_data before scaling:\", train_data.isna().sum().sum())\n",
    "print(\"NaN values in val_data before scaling:\", val_data.isna().sum().sum())\n",
    "print(\"NaN values in test_data before scaling:\", test_data.isna().sum().sum())"
   ]
  },
  {
   "cell_type": "code",
   "execution_count": 16,
   "metadata": {},
   "outputs": [],
   "source": [
    "scaler = MinMaxScaler()\n",
    "\n",
    "scaled_train = scaler.fit_transform(train_data)\n",
    "\n",
    "scaled_val = scaler.transform(val_data)\n",
    "\n",
    "scaled_test = scaler.transform(test_data)"
   ]
  },
  {
   "cell_type": "code",
   "execution_count": 17,
   "metadata": {},
   "outputs": [
    {
     "name": "stdout",
     "output_type": "stream",
     "text": [
      "0\n",
      "0\n",
      "0\n"
     ]
    }
   ],
   "source": [
    "print(np.isnan(scaled_train).sum())  # NaN 값의 수 출력\n",
    "print(np.isnan(scaled_val).sum())\n",
    "print(np.isnan(scaled_test).sum())"
   ]
  },
  {
   "cell_type": "code",
   "execution_count": 18,
   "metadata": {},
   "outputs": [
    {
     "name": "stdout",
     "output_type": "stream",
     "text": [
      "(30652, 24, 1) (6550, 24, 1) (6550, 24, 1)\n",
      "(30652, 1) (6550, 1) (6550, 1)\n"
     ]
    }
   ],
   "source": [
    "def create_sequences(df, target_data, seq_length):\n",
    "    xs, ys = [], []\n",
    "    for i in range(len(df) - seq_length):\n",
    "        x = df[i:i+seq_length]\n",
    "        y = target_data[i+seq_length]\n",
    "        xs.append(x)\n",
    "        ys.append(y)\n",
    "    return np.array(xs), np.array(ys)\n",
    "\n",
    "seq_length = 24\n",
    "X_train, y_train = create_sequences(scaled_train, scaled_train, seq_length)\n",
    "X_val, y_val = create_sequences(scaled_val, scaled_val, seq_length)\n",
    "X_test, y_test = create_sequences(scaled_test, scaled_test, seq_length)\n",
    "\n",
    "print(X_train.shape, X_val.shape, X_test.shape)\n",
    "print(y_train.shape, y_val.shape, y_test.shape)"
   ]
  },
  {
   "cell_type": "code",
   "execution_count": 19,
   "metadata": {},
   "outputs": [],
   "source": [
    "X_train = torch.tensor(X_train, dtype=torch.float32)\n",
    "y_train = torch.tensor(y_train, dtype=torch.float32)\n",
    "X_val = torch.tensor(X_val, dtype=torch.float32)\n",
    "y_val = torch.tensor(y_val, dtype=torch.float32)\n",
    "X_test = torch.tensor(X_test, dtype=torch.float32)\n",
    "y_test = torch.tensor(y_test, dtype=torch.float32)"
   ]
  },
  {
   "cell_type": "code",
   "execution_count": 20,
   "metadata": {},
   "outputs": [
    {
     "name": "stdout",
     "output_type": "stream",
     "text": [
      "NaN values in X_train tensor: 0\n",
      "NaN values in y_train tensor: 0\n"
     ]
    }
   ],
   "source": [
    "# NaN 값 확인\n",
    "print(\"NaN values in X_train tensor:\", torch.isnan(X_train).sum().item())\n",
    "print(\"NaN values in y_train tensor:\", torch.isnan(y_train).sum().item())"
   ]
  },
  {
   "cell_type": "code",
   "execution_count": 21,
   "metadata": {},
   "outputs": [],
   "source": [
    "class HeightPredictor(nn.Module):\n",
    "    def __init__(self, n_features, n_hidden, seq_len, n_layers):\n",
    "        super(HeightPredictor, self).__init__()\n",
    "        self.n_hidden = n_hidden\n",
    "        self.seq_len = seq_len\n",
    "        self.n_layers = n_layers\n",
    "        self.c1 = nn.Conv1d(in_channels=1, out_channels=1, kernel_size = 2, stride = 1) # 1D CNN 레이어 추가\n",
    "        self.lstm = nn.LSTM(\n",
    "            input_size=n_features,\n",
    "            hidden_size=n_hidden, # 기억하고 있는 정보량\n",
    "            num_layers=n_layers\n",
    "        )\n",
    "        self.linear = nn.Linear(in_features=n_hidden, out_features=1)\n",
    "\n",
    "    def reset_hidden_state(self): # LSTM 레이어 은닉 상태 초기화\n",
    "        self.hidden = ( # 모델의 초기화나 새로운 데이터 시퀀스 처리 전 호출\n",
    "            torch.zeros(self.n_layers, self.seq_len-1, self.n_hidden),\n",
    "            torch.zeros(self.n_layers, self.seq_len-1, self.n_hidden)\n",
    "        )\n",
    "\n",
    "    def forward(self, sequences):\n",
    "        sequences = self.c1(sequences.view(len(sequences), 1, -1))\n",
    "        lstm_out, self.hidden = self.lstm(\n",
    "            sequences.view(len(sequences), self.seq_len-1, -1), # LSTM 출력 저장(lstm_out)한 크기\n",
    "            self.hidden # 함께, CNN 출력을 LSTM에 입력하여 시퀀스 처리\n",
    "        )\n",
    "        last_time_step = lstm_out.view(self.seq_len-1, len(sequences), self.n_hidden)[-1] # (len(sequences), self.n_hidden)\n",
    "        y_pred = self.linear(last_time_step)\n",
    "        return y_pred # (LEN(sequences), 1)"
   ]
  },
  {
   "cell_type": "code",
   "execution_count": 22,
   "metadata": {},
   "outputs": [],
   "source": [
    "model = HeightPredictor(\n",
    "    n_features=1,\n",
    "    n_hidden=4,\n",
    "    seq_len=seq_length,\n",
    "    n_layers=1\n",
    ")"
   ]
  },
  {
   "cell_type": "code",
   "execution_count": 23,
   "metadata": {},
   "outputs": [
    {
     "name": "stdout",
     "output_type": "stream",
     "text": [
      "HeightPredictor(\n",
      "  (c1): Conv1d(1, 1, kernel_size=(2,), stride=(1,))\n",
      "  (lstm): LSTM(1, 4)\n",
      "  (linear): Linear(in_features=4, out_features=1, bias=True)\n",
      ")\n"
     ]
    }
   ],
   "source": [
    "print(model)"
   ]
  },
  {
   "cell_type": "code",
   "execution_count": 24,
   "metadata": {},
   "outputs": [],
   "source": [
    "def train_model(model, train_data, train_labels, val_data=None, val_labels=None, num_epochs=20, verbose = 5, patience = 10):\n",
    "    loss_fn = torch.nn.MSELoss() # verbose : 출력할 때마다 보고할 에포크의 간격 # patience : 조기종료 결정\n",
    "    optimizer = torch.optim.Adam(model.parameters(), lr=0.005)\n",
    "    train_hist = []\n",
    "    val_hist = []\n",
    "    \n",
    "    for t in tqdm(range(num_epochs)):\n",
    "\n",
    "        model.train()\n",
    "        epoch_loss = 0\n",
    "\n",
    "        for idx, seq in enumerate(train_data): # \n",
    "\n",
    "            model.reset_hidden_state() # sample 별 hidden state reset을 해줘야 > 기억하고 있는 정보 reset\n",
    "\n",
    "            # train loss\n",
    "            seq = torch.unsqueeze(seq, 0) # unsqueeze(input, dim) : 원본 데이터 dim 위치에 차원 추가하기\n",
    "            # print(seq) 원본 데이터 프레임은 모두 nan이 없었는데 둘을 합치고 나서 nan이 발생\n",
    "            y_pred = model(seq)\n",
    "            # print(f'y_pred: {y_pred}, train_labels[idx]: {train_labels[idx]}')\n",
    "            \n",
    "            loss = loss_fn(y_pred[0].float(), train_labels[idx]) # 1개의 step에 대한 loss\n",
    "\n",
    "            # update weights\n",
    "            optimizer.zero_grad()\n",
    "            loss.backward()\n",
    "            \n",
    "            optimizer.step() # 가중치 업데이트\n",
    "\n",
    "            epoch_loss += loss.item()\n",
    "\n",
    "        train_hist.append(epoch_loss / len(train_data))\n",
    "\n",
    "        if val_data is not None:\n",
    "\n",
    "            model.eval()\n",
    "            with torch.no_grad():\n",
    "\n",
    "                val_loss = 0\n",
    "\n",
    "                for val_idx, val_seq in enumerate(val_data):\n",
    "\n",
    "                    model.reset_hidden_state() #seq 별로 hidden state 초기화 \n",
    "\n",
    "                    val_seq = torch.unsqueeze(val_seq, 0) # unsqueeze(input, dim) : 원본 데이터 dim 위치에 차원 추가하기\n",
    "                    y_val_pred = model(val_seq)\n",
    "                    val_step_loss = loss_fn(y_val_pred[0].float(), val_labels[val_idx])\n",
    "\n",
    "                    val_loss += val_step_loss\n",
    "                \n",
    "            val_hist.append(val_loss / len(val_data)) # val hist에 추가\n",
    "\n",
    "            ## verbose 번째 마다 loss 출력 \n",
    "            if t % verbose == 0:\n",
    "                print(f'Epoch {t} train loss: {epoch_loss / len(train_data)} val loss: {val_loss / len(val_data)}')\n",
    "\n",
    "            ## patience 번째 마다 early stopping 여부 확인 # 검증용 손실값(validation loss)을 patience번째 epoch마다 patience만큼의 이전 손실값과 비교해 줄어들지 않으면 학습을 종료 시킬 때 사용하는 인자\n",
    "            if (t % patience == 0) & (t != 0):\n",
    "                \n",
    "                ## loss가 커졌다면 early stop\n",
    "                if val_hist[t - patience] < val_hist[t] :\n",
    "\n",
    "                    print('\\n Early Stopping')\n",
    "\n",
    "                    break\n",
    "\n",
    "        elif t % verbose == 0:\n",
    "            print(f'Epoch {t} train loss: {epoch_loss / len(train_data)}')\n",
    "\n",
    "            \n",
    "    return model, train_hist, val_hist"
   ]
  },
  {
   "cell_type": "code",
   "execution_count": 25,
   "metadata": {},
   "outputs": [
    {
     "name": "stderr",
     "output_type": "stream",
     "text": [
      "c:\\Users\\user\\anaconda\\envs\\py3_11\\Lib\\site-packages\\tqdm\\auto.py:21: TqdmWarning: IProgress not found. Please update jupyter and ipywidgets. See https://ipywidgets.readthedocs.io/en/stable/user_install.html\n",
      "  from .autonotebook import tqdm as notebook_tqdm\n",
      "  5%|▌         | 1/20 [00:54<17:08, 54.11s/it]"
     ]
    },
    {
     "name": "stdout",
     "output_type": "stream",
     "text": [
      "Epoch 0 train loss: 0.003130731997832352 val loss: 0.004670797847211361\n"
     ]
    },
    {
     "name": "stderr",
     "output_type": "stream",
     "text": [
      " 30%|███       | 6/20 [05:33<12:55, 55.43s/it]"
     ]
    },
    {
     "name": "stdout",
     "output_type": "stream",
     "text": [
      "Epoch 5 train loss: 0.0009514174604345427 val loss: 0.0051260897889733315\n"
     ]
    },
    {
     "name": "stderr",
     "output_type": "stream",
     "text": [
      " 55%|█████▌    | 11/20 [10:09<08:16, 55.19s/it]"
     ]
    },
    {
     "name": "stdout",
     "output_type": "stream",
     "text": [
      "Epoch 10 train loss: 0.0007860339496335495 val loss: 0.003778348909690976\n"
     ]
    },
    {
     "name": "stderr",
     "output_type": "stream",
     "text": [
      " 80%|████████  | 16/20 [14:52<03:46, 56.61s/it]"
     ]
    },
    {
     "name": "stdout",
     "output_type": "stream",
     "text": [
      "Epoch 15 train loss: 0.0007749248266500151 val loss: 0.004177202936261892\n"
     ]
    },
    {
     "name": "stderr",
     "output_type": "stream",
     "text": [
      "100%|██████████| 20/20 [18:42<00:00, 56.13s/it]\n"
     ]
    }
   ],
   "source": [
    "model = HeightPredictor(\n",
    "    n_features=1,\n",
    "    n_hidden=4,\n",
    "    seq_len=seq_length,\n",
    "    n_layers=1\n",
    ")\n",
    "model, train_hist, val_hist = train_model(\n",
    "    model,\n",
    "    X_train,\n",
    "    y_train,\n",
    "    X_val,\n",
    "    y_val,\n",
    "    num_epochs=20,\n",
    "    verbose=5,\n",
    "    patience=10\n",
    ")"
   ]
  },
  {
   "cell_type": "code",
   "execution_count": 26,
   "metadata": {},
   "outputs": [
    {
     "data": {
      "text/plain": [
       "<matplotlib.legend.Legend at 0x2e1937afed0>"
      ]
     },
     "execution_count": 26,
     "metadata": {},
     "output_type": "execute_result"
    },
    {
     "data": {
      "image/png": "[encoded data removed]",
      "text/plain": [
       "<Figure size 640x480 with 1 Axes>"
      ]
     },
     "metadata": {},
     "output_type": "display_data"
    }
   ],
   "source": [
    "plt.plot(train_hist, label=\"Training loss\")\n",
    "plt.plot(val_hist, label=\"Val loss\")\n",
    "plt.legend()"
   ]
  },
  {
   "cell_type": "code",
   "execution_count": 27,
   "metadata": {},
   "outputs": [],
   "source": [
    "pred_dataset = X_test\n",
    "\n",
    "model.eval()\n",
    "with torch.no_grad():\n",
    "    preds = []\n",
    "    for _ in range(len(pred_dataset)):\n",
    "        model.reset_hidden_state()\n",
    "        y_test_pred = model(torch.unsqueeze(pred_dataset[_], 0))\n",
    "        pred = torch.flatten(y_test_pred).item()\n",
    "        preds.append(pred)"
   ]
  },
  {
   "cell_type": "code",
   "execution_count": 28,
   "metadata": {},
   "outputs": [],
   "source": [
    "preds = np.array(preds)\n",
    "preds = preds.reshape(-1, 1)"
   ]
  },
  {
   "cell_type": "code",
   "execution_count": 29,
   "metadata": {},
   "outputs": [],
   "source": [
    "actual = scaler.inverse_transform(y_test)\n",
    "predicted = scaler.inverse_transform(preds)"
   ]
  },
  {
   "cell_type": "code",
   "execution_count": 30,
   "metadata": {},
   "outputs": [
    {
     "data": {
      "image/png": "[encoded data removed]",
      "text/plain": [
       "<Figure size 640x480 with 1 Axes>"
      ]
     },
     "metadata": {},
     "output_type": "display_data"
    }
   ],
   "source": [
    "plt.plot(actual, label = 'True')\n",
    "plt.plot(predicted, label = 'Pred')\n",
    "plt.legend()\n",
    "plt.show()"
   ]
  },
  {
   "cell_type": "code",
   "execution_count": 31,
   "metadata": {},
   "outputs": [
    {
     "name": "stdout",
     "output_type": "stream",
     "text": [
      "RMSE: 0.055756576211214486\n"
     ]
    }
   ],
   "source": [
    "rmse = np.sqrt(mean_squared_error(y_test, preds))\n",
    "print(\"RMSE:\", rmse)"
   ]
  }
 ],
 "metadata": {
  "kernelspec": {
   "display_name": "py3_11",
   "language": "python",
   "name": "python3"
  },
  "language_info": {
   "codemirror_mode": {
    "name": "ipython",
    "version": 3
   },
   "file_extension": ".py",
   "mimetype": "text/x-python",
   "name": "python",
   "nbconvert_exporter": "python",
   "pygments_lexer": "ipython3",
   "version": "3.11.9"
  }
 },
 "nbformat": 4,
 "nbformat_minor": 2
}

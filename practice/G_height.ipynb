{
 "cells": [
  {
   "cell_type": "code",
   "execution_count": 34,
   "metadata": {},
   "outputs": [],
   "source": [
    "import pandas as pd\n",
    "import numpy as np\n",
    "import torch\n",
    "import torch.nn as nn\n",
    "\n",
    "from sklearn.preprocessing import MinMaxScaler\n",
    "\n",
    "from sklearn.metrics import mean_squared_error\n",
    "\n",
    "from torch.utils.data import DataLoader, TensorDataset\n",
    "import torch.optim as optim\n",
    "\n",
    "from datetime import datetime as dt\n",
    "import math\n",
    "\n",
    "import matplotlib.pyplot as plt\n",
    "\n",
    "import joblib"
   ]
  },
  {
   "cell_type": "code",
   "execution_count": 2,
   "metadata": {},
   "outputs": [],
   "source": [
    "g1 = pd.read_csv('data/G(배) 수위#1 (F_CV).csv', header=None)\n",
    "g1.columns = ['date', 'height1']\n",
    "\n",
    "g2 = pd.read_csv('data/G(배) 수위#2 (F_CV).csv', header=None)\n",
    "g2.columns = ['date', 'height2']"
   ]
  },
  {
   "cell_type": "code",
   "execution_count": 3,
   "metadata": {},
   "outputs": [
    {
     "name": "stdout",
     "output_type": "stream",
     "text": [
      "<class 'pandas.core.frame.DataFrame'>\n",
      "RangeIndex: 2624769 entries, 0 to 2624768\n",
      "Data columns (total 3 columns):\n",
      " #   Column   Dtype  \n",
      "---  ------   -----  \n",
      " 0   date     object \n",
      " 1   height1  float64\n",
      " 2   height2  float64\n",
      "dtypes: float64(2), object(1)\n",
      "memory usage: 60.1+ MB\n"
     ]
    },
    {
     "data": {
      "text/html": [
       "<div>\n",
       "<style scoped>\n",
       "    .dataframe tbody tr th:only-of-type {\n",
       "        vertical-align: middle;\n",
       "    }\n",
       "\n",
       "    .dataframe tbody tr th {\n",
       "        vertical-align: top;\n",
       "    }\n",
       "\n",
       "    .dataframe thead th {\n",
       "        text-align: right;\n",
       "    }\n",
       "</style>\n",
       "<table border=\"1\" class=\"dataframe\">\n",
       "  <thead>\n",
       "    <tr style=\"text-align: right;\">\n",
       "      <th></th>\n",
       "      <th>date</th>\n",
       "      <th>height1</th>\n",
       "      <th>height2</th>\n",
       "    </tr>\n",
       "  </thead>\n",
       "  <tbody>\n",
       "    <tr>\n",
       "      <th>0</th>\n",
       "      <td>2018-01-01 00:01:00</td>\n",
       "      <td>3.406844</td>\n",
       "      <td>3.416069</td>\n",
       "    </tr>\n",
       "    <tr>\n",
       "      <th>1</th>\n",
       "      <td>2018-01-01 00:02:00</td>\n",
       "      <td>3.407356</td>\n",
       "      <td>3.416069</td>\n",
       "    </tr>\n",
       "    <tr>\n",
       "      <th>2</th>\n",
       "      <td>2018-01-01 00:03:00</td>\n",
       "      <td>3.407356</td>\n",
       "      <td>3.415812</td>\n",
       "    </tr>\n",
       "    <tr>\n",
       "      <th>3</th>\n",
       "      <td>2018-01-01 00:04:00</td>\n",
       "      <td>3.396850</td>\n",
       "      <td>3.416837</td>\n",
       "    </tr>\n",
       "    <tr>\n",
       "      <th>4</th>\n",
       "      <td>2018-01-01 00:05:00</td>\n",
       "      <td>3.397362</td>\n",
       "      <td>3.415556</td>\n",
       "    </tr>\n",
       "    <tr>\n",
       "      <th>...</th>\n",
       "      <td>...</td>\n",
       "      <td>...</td>\n",
       "      <td>...</td>\n",
       "    </tr>\n",
       "    <tr>\n",
       "      <th>2624764</th>\n",
       "      <td>2022-12-31 23:55:00</td>\n",
       "      <td>3.348162</td>\n",
       "      <td>3.365587</td>\n",
       "    </tr>\n",
       "    <tr>\n",
       "      <th>2624765</th>\n",
       "      <td>2022-12-31 23:56:00</td>\n",
       "      <td>3.347650</td>\n",
       "      <td>3.366100</td>\n",
       "    </tr>\n",
       "    <tr>\n",
       "      <th>2624766</th>\n",
       "      <td>2022-12-31 23:57:00</td>\n",
       "      <td>3.347650</td>\n",
       "      <td>3.366612</td>\n",
       "    </tr>\n",
       "    <tr>\n",
       "      <th>2624767</th>\n",
       "      <td>2022-12-31 23:58:00</td>\n",
       "      <td>3.348162</td>\n",
       "      <td>3.365331</td>\n",
       "    </tr>\n",
       "    <tr>\n",
       "      <th>2624768</th>\n",
       "      <td>2022-12-31 23:59:00</td>\n",
       "      <td>3.347394</td>\n",
       "      <td>3.366869</td>\n",
       "    </tr>\n",
       "  </tbody>\n",
       "</table>\n",
       "<p>2624769 rows × 3 columns</p>\n",
       "</div>"
      ],
      "text/plain": [
       "                        date   height1   height2\n",
       "0        2018-01-01 00:01:00  3.406844  3.416069\n",
       "1        2018-01-01 00:02:00  3.407356  3.416069\n",
       "2        2018-01-01 00:03:00  3.407356  3.415812\n",
       "3        2018-01-01 00:04:00  3.396850  3.416837\n",
       "4        2018-01-01 00:05:00  3.397362  3.415556\n",
       "...                      ...       ...       ...\n",
       "2624764  2022-12-31 23:55:00  3.348162  3.365587\n",
       "2624765  2022-12-31 23:56:00  3.347650  3.366100\n",
       "2624766  2022-12-31 23:57:00  3.347650  3.366612\n",
       "2624767  2022-12-31 23:58:00  3.348162  3.365331\n",
       "2624768  2022-12-31 23:59:00  3.347394  3.366869\n",
       "\n",
       "[2624769 rows x 3 columns]"
      ]
     },
     "execution_count": 3,
     "metadata": {},
     "output_type": "execute_result"
    }
   ],
   "source": [
    "merged_df = pd.merge(g1, g2, on='date')\n",
    "merged_df.info(), merged_df.describe()\n",
    "merged_df"
   ]
  },
  {
   "cell_type": "code",
   "execution_count": 4,
   "metadata": {},
   "outputs": [
    {
     "data": {
      "text/plain": [
       "(0          False\n",
       " 1          False\n",
       " 2          False\n",
       " 3          False\n",
       " 4          False\n",
       "            ...  \n",
       " 2624764    False\n",
       " 2624765    False\n",
       " 2624766    False\n",
       " 2624767    False\n",
       " 2624768    False\n",
       " Name: height1, Length: 2624769, dtype: bool,\n",
       " 0          False\n",
       " 1          False\n",
       " 2          False\n",
       " 3          False\n",
       " 4          False\n",
       "            ...  \n",
       " 2624764    False\n",
       " 2624765    False\n",
       " 2624766    False\n",
       " 2624767    False\n",
       " 2624768    False\n",
       " Name: height2, Length: 2624769, dtype: bool)"
      ]
     },
     "execution_count": 4,
     "metadata": {},
     "output_type": "execute_result"
    }
   ],
   "source": [
    "merged_df['height1'] < 0, merged_df['height2'] < 0"
   ]
  },
  {
   "cell_type": "code",
   "execution_count": 5,
   "metadata": {},
   "outputs": [
    {
     "data": {
      "text/html": [
       "<div>\n",
       "<style scoped>\n",
       "    .dataframe tbody tr th:only-of-type {\n",
       "        vertical-align: middle;\n",
       "    }\n",
       "\n",
       "    .dataframe tbody tr th {\n",
       "        vertical-align: top;\n",
       "    }\n",
       "\n",
       "    .dataframe thead th {\n",
       "        text-align: right;\n",
       "    }\n",
       "</style>\n",
       "<table border=\"1\" class=\"dataframe\">\n",
       "  <thead>\n",
       "    <tr style=\"text-align: right;\">\n",
       "      <th></th>\n",
       "      <th>date</th>\n",
       "      <th>height1</th>\n",
       "      <th>height2</th>\n",
       "    </tr>\n",
       "  </thead>\n",
       "  <tbody>\n",
       "    <tr>\n",
       "      <th>0</th>\n",
       "      <td>False</td>\n",
       "      <td>False</td>\n",
       "      <td>False</td>\n",
       "    </tr>\n",
       "    <tr>\n",
       "      <th>1</th>\n",
       "      <td>False</td>\n",
       "      <td>False</td>\n",
       "      <td>False</td>\n",
       "    </tr>\n",
       "    <tr>\n",
       "      <th>2</th>\n",
       "      <td>False</td>\n",
       "      <td>False</td>\n",
       "      <td>False</td>\n",
       "    </tr>\n",
       "    <tr>\n",
       "      <th>3</th>\n",
       "      <td>False</td>\n",
       "      <td>False</td>\n",
       "      <td>False</td>\n",
       "    </tr>\n",
       "    <tr>\n",
       "      <th>4</th>\n",
       "      <td>False</td>\n",
       "      <td>False</td>\n",
       "      <td>False</td>\n",
       "    </tr>\n",
       "    <tr>\n",
       "      <th>...</th>\n",
       "      <td>...</td>\n",
       "      <td>...</td>\n",
       "      <td>...</td>\n",
       "    </tr>\n",
       "    <tr>\n",
       "      <th>2624764</th>\n",
       "      <td>False</td>\n",
       "      <td>False</td>\n",
       "      <td>False</td>\n",
       "    </tr>\n",
       "    <tr>\n",
       "      <th>2624765</th>\n",
       "      <td>False</td>\n",
       "      <td>False</td>\n",
       "      <td>False</td>\n",
       "    </tr>\n",
       "    <tr>\n",
       "      <th>2624766</th>\n",
       "      <td>False</td>\n",
       "      <td>False</td>\n",
       "      <td>False</td>\n",
       "    </tr>\n",
       "    <tr>\n",
       "      <th>2624767</th>\n",
       "      <td>False</td>\n",
       "      <td>False</td>\n",
       "      <td>False</td>\n",
       "    </tr>\n",
       "    <tr>\n",
       "      <th>2624768</th>\n",
       "      <td>False</td>\n",
       "      <td>False</td>\n",
       "      <td>False</td>\n",
       "    </tr>\n",
       "  </tbody>\n",
       "</table>\n",
       "<p>2624769 rows × 3 columns</p>\n",
       "</div>"
      ],
      "text/plain": [
       "          date  height1  height2\n",
       "0        False    False    False\n",
       "1        False    False    False\n",
       "2        False    False    False\n",
       "3        False    False    False\n",
       "4        False    False    False\n",
       "...        ...      ...      ...\n",
       "2624764  False    False    False\n",
       "2624765  False    False    False\n",
       "2624766  False    False    False\n",
       "2624767  False    False    False\n",
       "2624768  False    False    False\n",
       "\n",
       "[2624769 rows x 3 columns]"
      ]
     },
     "execution_count": 5,
     "metadata": {},
     "output_type": "execute_result"
    }
   ],
   "source": [
    "merged_df.isna()"
   ]
  },
  {
   "cell_type": "code",
   "execution_count": 6,
   "metadata": {},
   "outputs": [],
   "source": [
    "merged_df['date'] = pd.to_datetime(merged_df['date'])\n",
    "merged_df.set_index('date', inplace=True)"
   ]
  },
  {
   "cell_type": "code",
   "execution_count": 7,
   "metadata": {},
   "outputs": [
    {
     "data": {
      "text/plain": [
       "(                      height1   height2\n",
       " date                                   \n",
       " 2018-01-01 00:00:00  3.348297  3.359985\n",
       " 2018-01-01 01:00:00  3.234691  3.245684\n",
       " 2018-01-01 02:00:00  3.262332  3.273666\n",
       " 2018-01-01 03:00:00  3.341030  3.352519\n",
       " 2018-01-01 04:00:00  3.418892  3.430589,\n",
       "                       height1   height2\n",
       " date                                   \n",
       " 2022-12-31 19:00:00  3.351357  3.363174\n",
       " 2022-12-31 20:00:00  3.388206  3.400595\n",
       " 2022-12-31 21:00:00  3.392613  3.407322\n",
       " 2022-12-31 22:00:00  3.359262  3.373232\n",
       " 2022-12-31 23:00:00  3.347927  3.366249)"
      ]
     },
     "execution_count": 7,
     "metadata": {},
     "output_type": "execute_result"
    }
   ],
   "source": [
    "merged_df = merged_df.resample('h').mean()\n",
    "merged_df.head(), merged_df.tail()"
   ]
  },
  {
   "cell_type": "code",
   "execution_count": 8,
   "metadata": {},
   "outputs": [
    {
     "data": {
      "text/plain": [
       "pandas.core.frame.DataFrame"
      ]
     },
     "execution_count": 8,
     "metadata": {},
     "output_type": "execute_result"
    }
   ],
   "source": [
    "type(merged_df)"
   ]
  },
  {
   "cell_type": "code",
   "execution_count": 9,
   "metadata": {},
   "outputs": [
    {
     "name": "stdout",
     "output_type": "stream",
     "text": [
      "                       height\n",
      "date                         \n",
      "2018-01-01 00:00:00  3.354141\n",
      "2018-01-01 01:00:00  3.240187\n",
      "2018-01-01 02:00:00  3.267999\n",
      "2018-01-01 03:00:00  3.346774\n",
      "2018-01-01 04:00:00  3.424741\n",
      "...                       ...\n",
      "2022-12-31 19:00:00  3.357266\n",
      "2022-12-31 20:00:00  3.394401\n",
      "2022-12-31 21:00:00  3.399968\n",
      "2022-12-31 22:00:00  3.366247\n",
      "2022-12-31 23:00:00  3.357088\n",
      "\n",
      "[43824 rows x 1 columns]\n"
     ]
    }
   ],
   "source": [
    "merged_df['height'] = merged_df[['height1', 'height2']].mean(axis=1)\n",
    "merged_df = merged_df[['height']]\n",
    "print(merged_df)"
   ]
  },
  {
   "cell_type": "code",
   "execution_count": 10,
   "metadata": {},
   "outputs": [
    {
     "data": {
      "text/plain": [
       "height    63\n",
       "dtype: int64"
      ]
     },
     "execution_count": 10,
     "metadata": {},
     "output_type": "execute_result"
    }
   ],
   "source": [
    "merged_df.isna().sum()"
   ]
  },
  {
   "cell_type": "code",
   "execution_count": 11,
   "metadata": {},
   "outputs": [],
   "source": [
    "merged_df['height'] = merged_df['height'].interpolate(method='polynomial', order=2)"
   ]
  },
  {
   "cell_type": "code",
   "execution_count": 12,
   "metadata": {},
   "outputs": [
    {
     "data": {
      "text/plain": [
       "height    0\n",
       "dtype: int64"
      ]
     },
     "execution_count": 12,
     "metadata": {},
     "output_type": "execute_result"
    }
   ],
   "source": [
    "merged_df.isna().sum()"
   ]
  },
  {
   "cell_type": "code",
   "execution_count": 13,
   "metadata": {},
   "outputs": [
    {
     "data": {
      "text/html": [
       "<div>\n",
       "<style scoped>\n",
       "    .dataframe tbody tr th:only-of-type {\n",
       "        vertical-align: middle;\n",
       "    }\n",
       "\n",
       "    .dataframe tbody tr th {\n",
       "        vertical-align: top;\n",
       "    }\n",
       "\n",
       "    .dataframe thead th {\n",
       "        text-align: right;\n",
       "    }\n",
       "</style>\n",
       "<table border=\"1\" class=\"dataframe\">\n",
       "  <thead>\n",
       "    <tr style=\"text-align: right;\">\n",
       "      <th></th>\n",
       "      <th>height</th>\n",
       "    </tr>\n",
       "    <tr>\n",
       "      <th>date</th>\n",
       "      <th></th>\n",
       "    </tr>\n",
       "  </thead>\n",
       "  <tbody>\n",
       "    <tr>\n",
       "      <th>2019-10-18 20:00:00</th>\n",
       "      <td>3.495683</td>\n",
       "    </tr>\n",
       "    <tr>\n",
       "      <th>2019-10-18 21:00:00</th>\n",
       "      <td>3.560946</td>\n",
       "    </tr>\n",
       "    <tr>\n",
       "      <th>2019-10-18 22:00:00</th>\n",
       "      <td>3.630652</td>\n",
       "    </tr>\n",
       "    <tr>\n",
       "      <th>2019-10-18 23:00:00</th>\n",
       "      <td>3.706671</td>\n",
       "    </tr>\n",
       "    <tr>\n",
       "      <th>2019-10-19 00:00:00</th>\n",
       "      <td>3.794665</td>\n",
       "    </tr>\n",
       "    <tr>\n",
       "      <th>...</th>\n",
       "      <td>...</td>\n",
       "    </tr>\n",
       "    <tr>\n",
       "      <th>2022-06-30 19:00:00</th>\n",
       "      <td>3.677557</td>\n",
       "    </tr>\n",
       "    <tr>\n",
       "      <th>2022-06-30 20:00:00</th>\n",
       "      <td>3.725868</td>\n",
       "    </tr>\n",
       "    <tr>\n",
       "      <th>2022-06-30 21:00:00</th>\n",
       "      <td>3.786262</td>\n",
       "    </tr>\n",
       "    <tr>\n",
       "      <th>2022-06-30 22:00:00</th>\n",
       "      <td>3.859257</td>\n",
       "    </tr>\n",
       "    <tr>\n",
       "      <th>2022-06-30 23:00:00</th>\n",
       "      <td>3.820805</td>\n",
       "    </tr>\n",
       "  </tbody>\n",
       "</table>\n",
       "<p>23668 rows × 1 columns</p>\n",
       "</div>"
      ],
      "text/plain": [
       "                       height\n",
       "date                         \n",
       "2019-10-18 20:00:00  3.495683\n",
       "2019-10-18 21:00:00  3.560946\n",
       "2019-10-18 22:00:00  3.630652\n",
       "2019-10-18 23:00:00  3.706671\n",
       "2019-10-19 00:00:00  3.794665\n",
       "...                       ...\n",
       "2022-06-30 19:00:00  3.677557\n",
       "2022-06-30 20:00:00  3.725868\n",
       "2022-06-30 21:00:00  3.786262\n",
       "2022-06-30 22:00:00  3.859257\n",
       "2022-06-30 23:00:00  3.820805\n",
       "\n",
       "[23668 rows x 1 columns]"
      ]
     },
     "execution_count": 13,
     "metadata": {},
     "output_type": "execute_result"
    }
   ],
   "source": [
    "start_date = dt(2019, 10, 18, 19, 47)\n",
    "end_date = dt(2022, 6, 30, 23, 59)\n",
    "\n",
    "# 주어진 기간 내의 데이터를 sample로 설정\n",
    "sample_df = merged_df[(merged_df.index >= start_date) & (merged_df.index <= end_date)]\n",
    "\n",
    "sample_df"
   ]
  },
  {
   "cell_type": "code",
   "execution_count": 14,
   "metadata": {},
   "outputs": [
    {
     "data": {
      "text/html": [
       "<div>\n",
       "<style scoped>\n",
       "    .dataframe tbody tr th:only-of-type {\n",
       "        vertical-align: middle;\n",
       "    }\n",
       "\n",
       "    .dataframe tbody tr th {\n",
       "        vertical-align: top;\n",
       "    }\n",
       "\n",
       "    .dataframe thead th {\n",
       "        text-align: right;\n",
       "    }\n",
       "</style>\n",
       "<table border=\"1\" class=\"dataframe\">\n",
       "  <thead>\n",
       "    <tr style=\"text-align: right;\">\n",
       "      <th></th>\n",
       "      <th>height</th>\n",
       "    </tr>\n",
       "    <tr>\n",
       "      <th>date</th>\n",
       "      <th></th>\n",
       "    </tr>\n",
       "  </thead>\n",
       "  <tbody>\n",
       "    <tr>\n",
       "      <th>2022-07-01 00:00:00</th>\n",
       "      <td>3.703716</td>\n",
       "    </tr>\n",
       "    <tr>\n",
       "      <th>2022-07-01 01:00:00</th>\n",
       "      <td>3.595909</td>\n",
       "    </tr>\n",
       "    <tr>\n",
       "      <th>2022-07-01 02:00:00</th>\n",
       "      <td>3.524294</td>\n",
       "    </tr>\n",
       "    <tr>\n",
       "      <th>2022-07-01 03:00:00</th>\n",
       "      <td>3.594451</td>\n",
       "    </tr>\n",
       "    <tr>\n",
       "      <th>2022-07-01 04:00:00</th>\n",
       "      <td>3.655630</td>\n",
       "    </tr>\n",
       "    <tr>\n",
       "      <th>...</th>\n",
       "      <td>...</td>\n",
       "    </tr>\n",
       "    <tr>\n",
       "      <th>2022-12-31 19:00:00</th>\n",
       "      <td>3.357266</td>\n",
       "    </tr>\n",
       "    <tr>\n",
       "      <th>2022-12-31 20:00:00</th>\n",
       "      <td>3.394401</td>\n",
       "    </tr>\n",
       "    <tr>\n",
       "      <th>2022-12-31 21:00:00</th>\n",
       "      <td>3.399968</td>\n",
       "    </tr>\n",
       "    <tr>\n",
       "      <th>2022-12-31 22:00:00</th>\n",
       "      <td>3.366247</td>\n",
       "    </tr>\n",
       "    <tr>\n",
       "      <th>2022-12-31 23:00:00</th>\n",
       "      <td>3.357088</td>\n",
       "    </tr>\n",
       "  </tbody>\n",
       "</table>\n",
       "<p>4416 rows × 1 columns</p>\n",
       "</div>"
      ],
      "text/plain": [
       "                       height\n",
       "date                         \n",
       "2022-07-01 00:00:00  3.703716\n",
       "2022-07-01 01:00:00  3.595909\n",
       "2022-07-01 02:00:00  3.524294\n",
       "2022-07-01 03:00:00  3.594451\n",
       "2022-07-01 04:00:00  3.655630\n",
       "...                       ...\n",
       "2022-12-31 19:00:00  3.357266\n",
       "2022-12-31 20:00:00  3.394401\n",
       "2022-12-31 21:00:00  3.399968\n",
       "2022-12-31 22:00:00  3.366247\n",
       "2022-12-31 23:00:00  3.357088\n",
       "\n",
       "[4416 rows x 1 columns]"
      ]
     },
     "execution_count": 14,
     "metadata": {},
     "output_type": "execute_result"
    }
   ],
   "source": [
    "label_df = merged_df[merged_df.index > end_date]\n",
    "label_df"
   ]
  },
  {
   "cell_type": "code",
   "execution_count": 15,
   "metadata": {},
   "outputs": [
    {
     "name": "stdout",
     "output_type": "stream",
     "text": [
      "(18935, 1) (4733, 1)\n"
     ]
    },
    {
     "data": {
      "text/plain": [
       "(                       height\n",
       " date                         \n",
       " 2019-10-18 20:00:00  3.495683\n",
       " 2019-10-18 21:00:00  3.560946\n",
       " 2019-10-18 22:00:00  3.630652\n",
       " 2019-10-18 23:00:00  3.706671\n",
       " 2019-10-19 00:00:00  3.794665\n",
       " ...                       ...\n",
       " 2021-12-15 14:00:00  3.511827\n",
       " 2021-12-15 15:00:00  3.542058\n",
       " 2021-12-15 16:00:00  3.549255\n",
       " 2021-12-15 17:00:00  3.545913\n",
       " 2021-12-15 18:00:00  3.567942\n",
       " \n",
       " [18935 rows x 1 columns],\n",
       "                        height\n",
       " date                         \n",
       " 2021-12-15 19:00:00  3.599894\n",
       " 2021-12-15 20:00:00  3.635790\n",
       " 2021-12-15 21:00:00  3.686267\n",
       " 2021-12-15 22:00:00  3.744863\n",
       " 2021-12-15 23:00:00  3.810160\n",
       " ...                       ...\n",
       " 2022-06-30 19:00:00  3.677557\n",
       " 2022-06-30 20:00:00  3.725868\n",
       " 2022-06-30 21:00:00  3.786262\n",
       " 2022-06-30 22:00:00  3.859257\n",
       " 2022-06-30 23:00:00  3.820805\n",
       " \n",
       " [4733 rows x 1 columns])"
      ]
     },
     "execution_count": 15,
     "metadata": {},
     "output_type": "execute_result"
    }
   ],
   "source": [
    "training_data_len = math.ceil(len(sample_df) * .8)\n",
    "training_data_len\n",
    "\n",
    "train_data = sample_df[:training_data_len].iloc[:, :1]\n",
    "test_data = sample_df[training_data_len:].iloc[:, :1]\n",
    "print(train_data.shape, test_data.shape)\n",
    "\n",
    "train_data, test_data"
   ]
  },
  {
   "cell_type": "code",
   "execution_count": 16,
   "metadata": {},
   "outputs": [
    {
     "data": {
      "text/plain": [
       "((18935, 1), (4733, 1))"
      ]
     },
     "execution_count": 16,
     "metadata": {},
     "output_type": "execute_result"
    }
   ],
   "source": [
    "dataset_train = train_data.height.values\n",
    "dataset_train = np.reshape(dataset_train, (-1, 1))\n",
    "\n",
    "dataset_test = test_data.height.values\n",
    "dataset_test = np.reshape(dataset_test, (-1, 1))\n",
    "\n",
    "dataset_train.shape, dataset_test.shape"
   ]
  },
  {
   "cell_type": "code",
   "execution_count": 17,
   "metadata": {},
   "outputs": [
    {
     "name": "stdout",
     "output_type": "stream",
     "text": [
      "[[0.85588753]\n",
      " [0.87186651]\n",
      " [0.88893351]\n",
      " [0.90754602]\n",
      " [0.92909061]]\n",
      "[0.88140255] [0.89019145] [0.90255032] [0.91689699] [0.93288434]\n"
     ]
    },
    {
     "data": {
      "text/plain": [
       "(None, None)"
      ]
     },
     "execution_count": 17,
     "metadata": {},
     "output_type": "execute_result"
    }
   ],
   "source": [
    "scaler = MinMaxScaler()\n",
    "scaled_train = scaler.fit_transform(dataset_train)\n",
    "scaled_test = scaler.transform(dataset_test)\n",
    "\n",
    "print(scaled_train[:5]), print(*scaled_test[:5])"
   ]
  },
  {
   "cell_type": "code",
   "execution_count": 18,
   "metadata": {},
   "outputs": [
    {
     "data": {
      "text/plain": [
       "(torch.Size([18911, 24, 1]), torch.Size([18911, 1]))"
      ]
     },
     "execution_count": 18,
     "metadata": {},
     "output_type": "execute_result"
    }
   ],
   "source": [
    "sequence_length = 24\n",
    "X_train, y_train = [], []\n",
    "for i in range(len(scaled_train) - sequence_length):\n",
    "    X_train.append(scaled_train[i:i+sequence_length])\n",
    "    y_train.append(scaled_train[i+sequence_length])\n",
    "X_train, y_train = np.array(X_train), np.array(y_train)\n",
    "\n",
    "X_train = torch.tensor(X_train, dtype=torch.float32)\n",
    "y_train = torch.tensor(y_train, dtype=torch.float32)\n",
    "\n",
    "X_train.shape, y_train.shape"
   ]
  },
  {
   "cell_type": "code",
   "execution_count": 19,
   "metadata": {},
   "outputs": [
    {
     "data": {
      "text/plain": [
       "(torch.Size([4709, 24, 1]), torch.Size([4709, 1]))"
      ]
     },
     "execution_count": 19,
     "metadata": {},
     "output_type": "execute_result"
    }
   ],
   "source": [
    "sequence_length = 24\n",
    "X_test, y_test = [], []\n",
    "for i in range(len(scaled_test) - sequence_length):\n",
    "    X_test.append(scaled_test[i:i+sequence_length])\n",
    "    y_test.append(scaled_test[i+sequence_length])\n",
    "X_test, y_test = np.array(X_test), np.array(y_test)\n",
    "\n",
    "X_test = torch.tensor(X_test, dtype=torch.float32)\n",
    "y_test = torch.tensor(y_test, dtype=torch.float32)\n",
    "\n",
    "X_test.shape, y_test.shape"
   ]
  },
  {
   "cell_type": "code",
   "execution_count": 20,
   "metadata": {},
   "outputs": [],
   "source": [
    "class LSTMModel(nn.Module):\n",
    "    def __init__(self, input_size, hidden_size, num_layers):\n",
    "        super(LSTMModel, self).__init__()\n",
    "        self.hidden_size = hidden_size\n",
    "        self.num_layers = num_layers\n",
    "        self.lstm = nn.LSTM(input_size, hidden_size, num_layers, batch_first=True)\n",
    "        self.fc = nn.Linear(hidden_size, output_size)\n",
    "    \n",
    "    def forward(self, x): # defines forward pass of the neural network\n",
    "        h0 = torch.zeros(self.num_layers, x.size(0), self.hidden_size).to(x.device)\n",
    "        c0 = torch.zeros(self.num_layers, x.size(0), self.hidden_size).to(x.device)\n",
    "        out, _ = self.lstm(x, (h0, c0))\n",
    "        out = self.fc(out[:, -1, :])\n",
    "        return out\n",
    "    \n",
    "input_size = 1\n",
    "num_layers = 3\n",
    "hidden_size = 128\n",
    "output_size = 1"
   ]
  },
  {
   "cell_type": "code",
   "execution_count": 21,
   "metadata": {},
   "outputs": [
    {
     "name": "stdout",
     "output_type": "stream",
     "text": [
      "cuda\n"
     ]
    }
   ],
   "source": [
    "device = torch.device('cuda' if torch.cuda.is_available() else 'cpu')\n",
    "print(device)"
   ]
  },
  {
   "cell_type": "code",
   "execution_count": 22,
   "metadata": {},
   "outputs": [
    {
     "name": "stderr",
     "output_type": "stream",
     "text": [
      "c:\\Users\\user\\anaconda\\envs\\py3_11\\Lib\\site-packages\\tqdm\\auto.py:21: TqdmWarning: IProgress not found. Please update jupyter and ipywidgets. See https://ipywidgets.readthedocs.io/en/stable/user_install.html\n",
      "  from .autonotebook import tqdm as notebook_tqdm\n"
     ]
    },
    {
     "name": "stdout",
     "output_type": "stream",
     "text": [
      "LSTMModel(\n",
      "  (lstm): LSTM(1, 128, num_layers=3, batch_first=True)\n",
      "  (fc): Linear(in_features=128, out_features=1, bias=True)\n",
      ")\n"
     ]
    }
   ],
   "source": [
    "model = LSTMModel(input_size, hidden_size, num_layers).to(device)\n",
    "loss_fn = torch.nn.MSELoss(reduction='mean')\n",
    "optimizer = optim.Adam(model.parameters(), lr=0.004)\n",
    "\n",
    "print(model)"
   ]
  },
  {
   "cell_type": "code",
   "execution_count": 23,
   "metadata": {},
   "outputs": [],
   "source": [
    "batch_size = 64\n",
    "# Create DataLoader for batch training\n",
    "train_dataset = TensorDataset(X_train, y_train)\n",
    "train_loader = DataLoader(train_dataset, batch_size=batch_size, shuffle=True)\n",
    "\n",
    "test_dataset = TensorDataset(X_test, y_test)\n",
    "test_loader = DataLoader(test_dataset, batch_size=batch_size, shuffle=False)"
   ]
  },
  {
   "cell_type": "code",
   "execution_count": 24,
   "metadata": {},
   "outputs": [
    {
     "name": "stdout",
     "output_type": "stream",
     "text": [
      "Epoch [10/50] - Training Loss: 0.0003, Test Loss: 0.0001\n",
      "Epoch [20/50] - Training Loss: 0.0003, Test Loss: 0.0003\n",
      "Epoch [30/50] - Training Loss: 0.0002, Test Loss: 0.0001\n",
      "Epoch [40/50] - Training Loss: 0.0002, Test Loss: 0.0001\n",
      "Epoch [50/50] - Training Loss: 0.0002, Test Loss: 0.0002\n"
     ]
    }
   ],
   "source": [
    "num_epochs = 50\n",
    "train_hist =[]\n",
    "test_hist =[]\n",
    "# Training loop\n",
    "for epoch in range(num_epochs):\n",
    "\ttotal_loss = 0.0\n",
    "\n",
    "\t# Training\n",
    "\tmodel.train()\n",
    "\tfor batch_X, batch_y in train_loader:\n",
    "\t\t# print(batch_X.shape) # torch.Size([64, 50, 1])\n",
    "\t\t# print(batch_y.shape) # torch.Size([64, 1])\n",
    "\t\tbatch_X, batch_y = batch_X.to(device), batch_y.to(device)\n",
    "\t\tpredictions = model(batch_X)\n",
    "\t\tloss = loss_fn(predictions, batch_y)\n",
    "\n",
    "\t\toptimizer.zero_grad()\n",
    "\t\tloss.backward()\n",
    "\t\toptimizer.step()\n",
    "\n",
    "\t\ttotal_loss += loss.item()\n",
    "\n",
    "\t# Calculate average training loss and accuracy\n",
    "\taverage_loss = total_loss / len(train_loader)\n",
    "\ttrain_hist.append(average_loss)\n",
    "\n",
    "\t# Validation on test data\n",
    "\tmodel.eval()\n",
    "\twith torch.no_grad():\n",
    "\t\ttotal_test_loss = 0.0\n",
    "\n",
    "\t\tfor batch_X_test, batch_y_test in test_loader:\n",
    "\t\t\tbatch_X_test, batch_y_test = batch_X_test.to(device), batch_y_test.to(device)\n",
    "\t\t\tpredictions_test = model(batch_X_test)\n",
    "\t\t\ttest_loss = loss_fn(predictions_test, batch_y_test)\n",
    "\n",
    "\t\t\ttotal_test_loss += test_loss.item()\n",
    "\n",
    "\t\t# Calculate average test loss and accuracy\n",
    "\t\taverage_test_loss = total_test_loss / len(test_loader)\n",
    "\t\ttest_hist.append(average_test_loss)\n",
    "\t\t\n",
    "\tif (epoch+1)%10==0:\n",
    "\t\tprint(f'Epoch [{epoch+1}/{num_epochs}] - Training Loss: {average_loss:.4f}, Test Loss: {average_test_loss:.4f}')\n"
   ]
  },
  {
   "cell_type": "code",
   "execution_count": 25,
   "metadata": {},
   "outputs": [],
   "source": [
    "model.eval()\n",
    "preds = []\n",
    "\n",
    "with torch.no_grad():\n",
    "    for batch_X_test, _ in test_loader:\n",
    "        batch_X_test = batch_X_test.to(device)\n",
    "        predictions_test = model(batch_X_test)\n",
    "        preds.append(predictions_test.cpu().numpy())\n",
    "\n",
    "preds = np.concatenate(preds, axis=0)\n",
    "preds = preds.reshape(-1, 1)"
   ]
  },
  {
   "cell_type": "code",
   "execution_count": 26,
   "metadata": {},
   "outputs": [],
   "source": [
    "# 역변환하여 실제 값으로 변환\n",
    "actual = scaler.inverse_transform(y_test.cpu().numpy())\n",
    "predicted = scaler.inverse_transform(preds)"
   ]
  },
  {
   "cell_type": "code",
   "execution_count": 27,
   "metadata": {},
   "outputs": [
    {
     "name": "stdout",
     "output_type": "stream",
     "text": [
      "                    Date    Actual  Predicted\n",
      "0    2021-12-16 19:00:00  3.436246   3.422224\n",
      "1    2021-12-16 20:00:00  3.484479   3.475589\n",
      "2    2021-12-16 21:00:00  3.525142   3.540520\n",
      "3    2021-12-16 22:00:00  3.554536   3.583798\n",
      "4    2021-12-16 23:00:00  3.615047   3.608812\n",
      "...                  ...       ...        ...\n",
      "4704 2022-06-30 19:00:00  3.677557   3.682581\n",
      "4705 2022-06-30 20:00:00  3.725868   3.743418\n",
      "4706 2022-06-30 21:00:00  3.786262   3.788649\n",
      "4707 2022-06-30 22:00:00  3.859257   3.841506\n",
      "4708 2022-06-30 23:00:00  3.820805   3.880468\n",
      "\n",
      "[4709 rows x 3 columns]\n"
     ]
    }
   ],
   "source": [
    "# 테스트 구간의 날짜를 가져오기\n",
    "dates = test_data.index[sequence_length:]\n",
    "\n",
    "# 비교 데이터프레임 생성\n",
    "comparison_df = pd.DataFrame({\n",
    "    'Date': dates,\n",
    "    'Actual': actual.flatten(),\n",
    "    'Predicted': predicted.flatten()\n",
    "})\n",
    "\n",
    "print(comparison_df)"
   ]
  },
  {
   "cell_type": "code",
   "execution_count": 31,
   "metadata": {},
   "outputs": [
    {
     "name": "stdout",
     "output_type": "stream",
     "text": [
      "LSTM RMSE: 0.0503\n"
     ]
    }
   ],
   "source": [
    "rmse = np.sqrt(mean_squared_error(actual, predicted))\n",
    "print(f'LSTM RMSE: {rmse:.4f}')"
   ]
  },
  {
   "cell_type": "code",
   "execution_count": 35,
   "metadata": {},
   "outputs": [
    {
     "data": {
      "image/png": "[encoded data removed]",
      "text/plain": [
       "<Figure size 640x480 with 1 Axes>"
      ]
     },
     "metadata": {},
     "output_type": "display_data"
    }
   ],
   "source": [
    "plt.plot(actual, label = 'True')\n",
    "plt.plot(predicted, label = 'Pred')\n",
    "plt.legend()\n",
    "plt.show()"
   ]
  },
  {
   "cell_type": "code",
   "execution_count": 28,
   "metadata": {},
   "outputs": [],
   "source": [
    "# # Define the number of future time steps to forecast\n",
    "# num_forecast_steps = 1\n",
    "\n",
    "# # Convert to NumPy and remove singleton dimensions\n",
    "# sequence_to_plot = X_test.squeeze().cpu().numpy()\n",
    "\n",
    "# historical_data = sequence_to_plot[-1]\n",
    "# # print(historical_data.shape)\n",
    "\n",
    "# # Initialize a list to store the forecasted values\n",
    "# forecasted_values = []\n",
    "\n",
    "# # Use the trained model to forecast future values\n",
    "# with torch.no_grad():\n",
    "#     for _ in range(num_forecast_steps):\n",
    "#         historical_data_tensor = torch.as_tensor(historical_data).view(1, -1, 1).float().to(device)\n",
    "#         predicted_value = model(historical_data_tensor).cpu().numpy()[0, 0]\n",
    "#         forecasted_values.append(predicted_value)\n",
    "#         historical_data = np.roll(historical_data, shift=-1)\n",
    "#         historical_data[-1] = predicted_value\n",
    "\n",
    "# forecasted_values = scaler.inverse_transform(np.array(forecasted_values).reshape(-1, 1))\n",
    "# print(\"예측값\", forecasted_values)\n",
    "\n",
    "# # Generate futute dates\n",
    "# last_date = test_data.index[-1]\n",
    "# print(\"마지막 날짜\", last_date)\n",
    "# future_dates = pd.date_range(start=last_date+pd.DateOffset(hours=1), periods=num_forecast_steps, freq='h')\n",
    "# print(\"예측 날짜\", future_dates)"
   ]
  },
  {
   "cell_type": "code",
   "execution_count": 29,
   "metadata": {},
   "outputs": [],
   "source": [
    "# # 테스트 데이터의 마지막 num_forecast_steps 만큼\n",
    "# actual_values = test_data.iloc[-num_forecast_steps:].values\n",
    "# print(\"실제 값\", actual_values)\n",
    "\n",
    "# # RMSE 계산\n",
    "# rmse = np.sqrt(mean_squared_error(actual_values, forecasted_values))\n",
    "# print(f'LSTM RMSE: {rmse:.4f}')"
   ]
  },
  {
   "cell_type": "code",
   "execution_count": 30,
   "metadata": {},
   "outputs": [
    {
     "name": "stdout",
     "output_type": "stream",
     "text": [
      "Model saved to model.pth\n"
     ]
    }
   ],
   "source": [
    "PATH = \"model.pth\"\n",
    "torch.save(model, PATH)\n",
    "print(f\"Model saved to {PATH}\")"
   ]
  }
 ],
 "metadata": {
  "kernelspec": {
   "display_name": "py3_11",
   "language": "python",
   "name": "python3"
  },
  "language_info": {
   "codemirror_mode": {
    "name": "ipython",
    "version": 3
   },
   "file_extension": ".py",
   "mimetype": "text/x-python",
   "name": "python",
   "nbconvert_exporter": "python",
   "pygments_lexer": "ipython3",
   "version": "3.11.9"
  }
 },
 "nbformat": 4,
 "nbformat_minor": 2
}

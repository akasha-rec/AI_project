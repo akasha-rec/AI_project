{
 "cells": [
  {
   "cell_type": "code",
   "execution_count": 19,
   "metadata": {},
   "outputs": [],
   "source": [
    "import pandas as pd\n",
    "import numpy as np\n",
    "import math\n",
    "import matplotlib.pyplot as plt # Visualization \n",
    "import matplotlib.dates as mdates # Formatting dates\n",
    "import seaborn as sns # Visualization\n",
    "from sklearn.preprocessing import MinMaxScaler\n",
    "import torch # Library for implementing Deep Neural Network \n",
    "import torch.nn as nn\n",
    "import torch.nn.functional as F\n",
    "import torch.optim as optim\n",
    "from torch.utils.data import Dataset, DataLoader"
   ]
  },
  {
   "cell_type": "code",
   "execution_count": 20,
   "metadata": {},
   "outputs": [
    {
     "name": "stderr",
     "output_type": "stream",
     "text": [
      "[*********************100%%**********************]  1 of 1 completed"
     ]
    },
    {
     "name": "stdout",
     "output_type": "stream",
     "text": [
      "                 Open       High        Low      Close  Adj Close     Volume\n",
      "Date                                                                        \n",
      "2019-07-01  50.792500  51.122501  50.162498  50.387501  48.628845  109012000\n",
      "2019-07-02  50.352501  50.782501  50.340000  50.682499  48.913540   67740800\n",
      "2019-07-03  50.820000  51.110001  50.672501  51.102501  49.318886   45448000\n",
      "2019-07-05  50.837502  51.270000  50.724998  51.057499  49.275448   69062000\n",
      "2019-07-08  50.202499  50.349998  49.602501  50.005001  48.259682  101354400\n"
     ]
    },
    {
     "name": "stderr",
     "output_type": "stream",
     "text": [
      "\n"
     ]
    }
   ],
   "source": [
    "import yfinance as yf\n",
    "\n",
    "df=a = yf.download('AAPL', start='2019-07-01', end='2024-07-02')\n",
    "\n",
    "df.shape\n",
    "print(df.head())"
   ]
  },
  {
   "cell_type": "code",
   "execution_count": 22,
   "metadata": {},
   "outputs": [
    {
     "name": "stdout",
     "output_type": "stream",
     "text": [
      "<class 'pandas.core.frame.DataFrame'>\n",
      "DatetimeIndex: 1259 entries, 2019-07-01 to 2024-07-01\n",
      "Data columns (total 6 columns):\n",
      " #   Column     Non-Null Count  Dtype  \n",
      "---  ------     --------------  -----  \n",
      " 0   Open       1259 non-null   float64\n",
      " 1   High       1259 non-null   float64\n",
      " 2   Low        1259 non-null   float64\n",
      " 3   Close      1259 non-null   float64\n",
      " 4   Adj Close  1259 non-null   float64\n",
      " 5   Volume     1259 non-null   int64  \n",
      "dtypes: float64(5), int64(1)\n",
      "memory usage: 68.9 KB\n"
     ]
    }
   ],
   "source": [
    "df.info()"
   ]
  },
  {
   "cell_type": "code",
   "execution_count": 23,
   "metadata": {},
   "outputs": [],
   "source": [
    "df['Volume'] = df['Volume'].astype(float)"
   ]
  },
  {
   "cell_type": "code",
   "execution_count": 24,
   "metadata": {},
   "outputs": [],
   "source": [
    "df = df[['Open', 'High', 'Low', 'Volume', 'Adj Close', 'Close']]"
   ]
  },
  {
   "cell_type": "code",
   "execution_count": 26,
   "metadata": {},
   "outputs": [
    {
     "name": "stdout",
     "output_type": "stream",
     "text": [
      "X_test                   Open        High         Low   Adj Close      Volume\n",
      "Date                                                                  \n",
      "2023-07-03  193.779999  193.880005  191.759995  191.443314  31458200.0\n",
      "2023-07-05  191.570007  192.979996  190.619995  190.319260  46920300.0\n",
      "2023-07-06  189.839996  192.020004  189.199997  190.796722  45094300.0\n",
      "2023-07-07  191.410004  192.669998  190.240005  189.672684  46778000.0\n",
      "2023-07-10  189.259995  189.990005  187.039993  187.613632  59922200.0\n",
      "...                ...         ...         ...         ...         ...\n",
      "2024-06-25  209.149994  211.380005  208.610001  209.070007  56713900.0\n",
      "2024-06-26  211.500000  214.860001  210.639999  213.250000  66213200.0\n",
      "2024-06-27  214.690002  215.740005  212.350006  214.100006  49772700.0\n",
      "2024-06-28  215.770004  216.070007  210.300003  210.619995  82542700.0\n",
      "2024-07-01  212.089996  217.509995  211.919998  216.750000  60402900.0\n",
      "\n",
      "[251 rows x 5 columns]\n",
      "y_test Date\n",
      "2023-07-03    192.460007\n",
      "2023-07-05    191.330002\n",
      "2023-07-06    191.809998\n",
      "2023-07-07    190.679993\n",
      "2023-07-10    188.610001\n",
      "                 ...    \n",
      "2024-06-25    209.070007\n",
      "2024-06-26    213.250000\n",
      "2024-06-27    214.100006\n",
      "2024-06-28    210.619995\n",
      "2024-07-01    216.750000\n",
      "Name: Close, Length: 251, dtype: float64\n"
     ]
    }
   ],
   "source": [
    "# Train-Test Split \n",
    "# Setting 80 percent data for training\n",
    "training_data_len = math.ceil(len(df) * .8)\n",
    "training_data_len\n",
    "\n",
    "#Splitting the dataset\n",
    "train_data = df[:training_data_len]\n",
    "test_data = df[training_data_len:]\n",
    "\n",
    "X_train = train_data[['Open', 'High', 'Low', 'Adj Close', 'Volume']]\n",
    "y_train = train_data['Close']\n",
    "X_test = test_data[['Open', 'High', 'Low', 'Adj Close', 'Volume']]\n",
    "y_test = test_data['Close']\n",
    "\n",
    "# print(\"X_train\", X_train)\n",
    "print(\"X_test\", X_test)\n",
    "# print(\"y_train\", y_train)\n",
    "print(\"y_test\", y_test)"
   ]
  },
  {
   "cell_type": "code",
   "execution_count": 27,
   "metadata": {},
   "outputs": [
    {
     "name": "stdout",
     "output_type": "stream",
     "text": [
      "[[0.01358757 0.01107183 0.01409704 0.01354005 0.18863644]\n",
      " [0.01050586 0.00872639 0.01533731 0.01548605 0.08316823]\n",
      " [0.01378017 0.01098559 0.01766062 0.01825675 0.02619916]\n",
      " [0.01390275 0.01208932 0.01802745 0.01795983 0.08654454]\n",
      " [0.00945526 0.00574284 0.01018412 0.01101667 0.16906751]]\n",
      "[[ 1.01505835  0.99586106  1.00349369  0.98973314 -0.00955166]\n",
      " [ 0.99957978  0.9896525   0.99552808  0.98204979  0.02996161]\n",
      " [ 0.98746295  0.98303015  0.985606    0.98531344  0.02529528]\n",
      " [ 0.99845913  0.98751403  0.99287294  0.97763019  0.02959796]\n",
      " [ 0.98340067  0.96902654  0.97051321  0.96355576  0.06318786]]\n",
      "[[0.01409346]\n",
      " [0.01611906]\n",
      " [0.019003  ]\n",
      " [0.01869399]\n",
      " [0.01146704]]\n",
      "[[0.98963165]\n",
      " [0.98187249]\n",
      " [0.98516838]\n",
      " [0.97740922]\n",
      " [0.96319566]]\n"
     ]
    }
   ],
   "source": [
    "scaler_X = MinMaxScaler()\n",
    "scaled_X_train = scaler_X.fit_transform(X_train)\n",
    "scaled_X_test = scaler_X.transform(X_test)\n",
    "\n",
    "scaler_y = MinMaxScaler()\n",
    "scaled_y_train = scaler_y.fit_transform(y_train.values.reshape(-1, 1))\n",
    "scaled_y_test = scaler_y.transform(y_test.values.reshape(-1, 1))\n",
    "\n",
    "print(scaled_X_train[:5])\n",
    "print(scaled_X_test[:5])  # 테스트 데이터의 첫 5개의 행을 출력\n",
    "print(scaled_y_train[:5])\n",
    "print(scaled_y_test[:5])"
   ]
  },
  {
   "cell_type": "code",
   "execution_count": 28,
   "metadata": {},
   "outputs": [
    {
     "data": {
      "text/plain": [
       "(torch.Size([958, 50, 5]),\n",
       " torch.Size([958, 1]),\n",
       " torch.Size([221, 30, 5]),\n",
       " torch.Size([221, 1]))"
      ]
     },
     "execution_count": 28,
     "metadata": {},
     "output_type": "execute_result"
    }
   ],
   "source": [
    "def create_sequences(data_X, data_y, sequence_length):\n",
    "    X = []\n",
    "    y = []\n",
    "    for i in range(len(data_X) - sequence_length):\n",
    "        X.append(data_X[i:i+sequence_length])\n",
    "        y.append(data_y[i+sequence_length])\n",
    "    return np.array(X), np.array(y)\n",
    "\n",
    "# 학습 데이터 시퀀스\n",
    "sequence_length = 50\n",
    "X_train_seq, y_train_seq = create_sequences(scaled_X_train, scaled_y_train, sequence_length)\n",
    "\n",
    "# 테스트 데이터 시퀀스\n",
    "sequence_length = 30\n",
    "X_test_seq, y_test_seq = create_sequences(scaled_X_test, scaled_y_test, sequence_length)\n",
    "\n",
    "# PyTorch Tensor로 변환\n",
    "X_train_seq = torch.tensor(X_train_seq, dtype=torch.float32)\n",
    "y_train_seq = torch.tensor(y_train_seq, dtype=torch.float32)\n",
    "X_test_seq = torch.tensor(X_test_seq, dtype=torch.float32)\n",
    "y_test_seq = torch.tensor(y_test_seq, dtype=torch.float32)\n",
    "\n",
    "X_train_seq.shape, y_train_seq.shape, X_test_seq.shape, y_test_seq.shape\n",
    "# sequence_length = 30\n",
    "# X_train, y_train = [], []\n",
    "\n",
    "# for i in range(len(scaled_train) - sequence_length):\n",
    "#     X_train.append(scaled_train[i:i+sequence_length])\n",
    "#     y_train.append(scaled_train[i+sequence_length:i+sequence_length+1])\n",
    "# X_train, y_train = np.array(X_train), np.array(y_train)\n",
    "\n",
    "# # Convert data to PyTorch tensors\n",
    "# X_train = torch.tensor(X_train, dtype=torch.float32)\n",
    "# y_train = torch.tensor(y_train, dtype=torch.float32)\n",
    "\n",
    "# X_train.shape,y_train.shape"
   ]
  },
  {
   "cell_type": "code",
   "execution_count": 29,
   "metadata": {},
   "outputs": [],
   "source": [
    "class LSTMModel(nn.Module):\n",
    "\t# input_size : number of features in input at each time step\n",
    "\t# hidden_size : Number of LSTM units \n",
    "\t# num_layers : number of LSTM layers \n",
    "\tdef __init__(self, input_size, hidden_size, num_layers, output_size): \n",
    "\t\tsuper(LSTMModel, self).__init__() #initializes the parent class nn.Module\n",
    "\t\tself.hidden_size = hidden_size\n",
    "\t\tself.num_layers = num_layers\n",
    "\t\tself.lstm = nn.LSTM(input_size, hidden_size, num_layers, batch_first=True)\n",
    "\t\tself.fc = nn.Linear(hidden_size, output_size)\n",
    "\n",
    "\tdef forward(self, x): # defines forward pass of the neural network\n",
    "\t\th0 = torch.zeros(self.num_layers, x.size(0), self.hidden_size).to(x.device)\n",
    "\t\tc0 = torch.zeros(self.num_layers, x.size(0), self.hidden_size).to(x.device)\n",
    "\t\tout, _ = self.lstm(x, (h0, c0))\n",
    "\t\tout = self.fc(out[:, -1, :])\n",
    "\t\treturn out\n",
    "\n",
    "input_size = 5\n",
    "hidden_size = 40\n",
    "num_layers = 2\n",
    "output_size = 1\n",
    "# class LSTMModel(nn.Module):\n",
    "# \t# input_size : number of features in input at each time step\n",
    "# \t# hidden_size : Number of LSTM units \n",
    "# \t# num_layers : number of LSTM layers \n",
    "# \tdef __init__(self, input_size, hidden_size, num_layers, output_size=1): \n",
    "# \t\tsuper(LSTMModel, self).__init__() #initializes the parent class nn.Module\n",
    "# \t\tself.input_size = input_size\n",
    "# \t\tself.hidden_size = hidden_size\n",
    "# \t\tself.num_layers = num_layers\n",
    "# \t\tself.lstm = nn.LSTM(input_size, hidden_size, num_layers, batch_first=True)\n",
    "# \t\tself.fc = nn.Linear(hidden_size, output_size)\n",
    "\n",
    "# \tdef forward(self, x): # defines forward pass of the neural network\n",
    "# \t\th0 = torch.zeros(self.num_layers, x.size(0), self.hidden_size).to(x.device)\n",
    "# \t\tc0 = torch.zeros(self.num_layers, x.size(0), self.hidden_size).to(x.device)\n",
    "# \t\tout, _ = self.lstm(x, (h0, c0))\n",
    "# \t\tout = self.fc(out[:, -1, :])\n",
    "# \t\treturn out"
   ]
  },
  {
   "cell_type": "code",
   "execution_count": 30,
   "metadata": {},
   "outputs": [
    {
     "name": "stdout",
     "output_type": "stream",
     "text": [
      "cuda\n"
     ]
    }
   ],
   "source": [
    "device = torch.device('cuda' if torch.cuda.is_available() else 'cpu')\n",
    "print(device)"
   ]
  },
  {
   "cell_type": "code",
   "execution_count": 31,
   "metadata": {},
   "outputs": [
    {
     "name": "stdout",
     "output_type": "stream",
     "text": [
      "LSTMModel(\n",
      "  (lstm): LSTM(5, 40, num_layers=2, batch_first=True)\n",
      "  (fc): Linear(in_features=40, out_features=1, bias=True)\n",
      ")\n"
     ]
    }
   ],
   "source": [
    "# Define the model, loss function, and optimizer\n",
    "model = LSTMModel(input_size, hidden_size, num_layers, output_size).to(device)\n",
    "\n",
    "loss_fn = torch.nn.MSELoss(reduction='mean')\n",
    "\n",
    "optimizer = torch.optim.Adam(model.parameters(), lr=1e-3)\n",
    "print(model)\n"
   ]
  },
  {
   "cell_type": "code",
   "execution_count": 32,
   "metadata": {},
   "outputs": [],
   "source": [
    "batch_size = 16\n",
    "\n",
    "# Create DataLoader for batch training\n",
    "train_dataset = torch.utils.data.TensorDataset(X_train_seq, y_train_seq)\n",
    "train_loader = torch.utils.data.DataLoader(train_dataset, batch_size=batch_size, shuffle=True)\n",
    "\n",
    "# Create DataLoader for batch training\n",
    "test_dataset = torch.utils.data.TensorDataset(X_test_seq, y_test_seq)\n",
    "test_loader = torch.utils.data.DataLoader(test_dataset, batch_size=batch_size, shuffle=False)"
   ]
  },
  {
   "cell_type": "code",
   "execution_count": 33,
   "metadata": {},
   "outputs": [
    {
     "name": "stdout",
     "output_type": "stream",
     "text": [
      "Epoch [10/50] - Training Loss: 0.0010, Test Loss: 0.0016\n",
      "Epoch [20/50] - Training Loss: 0.0007, Test Loss: 0.0008\n",
      "Epoch [30/50] - Training Loss: 0.0007, Test Loss: 0.0007\n",
      "Epoch [40/50] - Training Loss: 0.0005, Test Loss: 0.0005\n",
      "Epoch [50/50] - Training Loss: 0.0005, Test Loss: 0.0004\n"
     ]
    }
   ],
   "source": [
    "num_epochs = 50\n",
    "train_hist =[]\n",
    "test_hist =[]\n",
    "# Training loop\n",
    "for epoch in range(num_epochs):\n",
    "\ttotal_loss = 0.0\n",
    "\n",
    "\t# Training\n",
    "\tmodel.train()\n",
    "\tfor batch_X, batch_y in train_loader:\n",
    "\t\t# print(batch_X.shape)\n",
    "\t\tbatch_X, batch_y = batch_X.to(device), batch_y.to(device)\n",
    "\t\tpredictions = model(batch_X)\n",
    "\t\tloss = loss_fn(predictions, batch_y)\n",
    "\n",
    "\t\toptimizer.zero_grad()\n",
    "\t\tloss.backward()\n",
    "\t\toptimizer.step()\n",
    "\n",
    "\t\ttotal_loss += loss.item()\n",
    "\n",
    "\t# Calculate average training loss and accuracy\n",
    "\taverage_loss = total_loss / len(train_loader)\n",
    "\ttrain_hist.append(average_loss)\n",
    "\n",
    "\t# Validation on test data\n",
    "\tmodel.eval()\n",
    "\twith torch.no_grad():\n",
    "\t\ttotal_test_loss = 0.0\n",
    "\n",
    "\t\tfor batch_X_test, batch_y_test in test_loader:\n",
    "\t\t\tbatch_X_test, batch_y_test = batch_X_test.to(device), batch_y_test.to(device)\n",
    "\t\t\tpredictions_test = model(batch_X_test)\n",
    "\t\t\ttest_loss = loss_fn(predictions_test, batch_y_test)\n",
    "\n",
    "\t\t\ttotal_test_loss += test_loss.item()\n",
    "\n",
    "\t\t# Calculate average test loss and accuracy\n",
    "\t\taverage_test_loss = total_test_loss / len(test_loader)\n",
    "\t\ttest_hist.append(average_test_loss)\n",
    "\tif (epoch+1)%10==0:\n",
    "\t\tprint(f'Epoch [{epoch+1}/{num_epochs}] - Training Loss: {average_loss:.4f}, Test Loss: {average_test_loss:.4f}')\n",
    "\n",
    "# num_epochs = 50\n",
    "# train_hist =[]\n",
    "# test_hist =[]\n",
    "# # Training loop\n",
    "# for epoch in range(num_epochs):\n",
    "# \ttotal_loss = 0.0\n",
    "\n",
    "# \t# Training\n",
    "# \tmodel.train()\n",
    "# \tfor batch_X, batch_y in train_loader:\n",
    "# \t\tprint(batch_X.shape)\n",
    "# \t\tbatch_X, batch_y = batch_X.to(device), batch_y.to(device)\n",
    "\t\t\n",
    "# \t\tpredictions = model(batch_X)\n",
    "# \t\tloss = loss_fn(predictions, batch_y)\n",
    "\n",
    "# \t\toptimizer.zero_grad()\n",
    "# \t\tloss.backward()\n",
    "# \t\toptimizer.step()\n",
    "\n",
    "# \t\ttotal_loss += loss.item()\n",
    "\n",
    "# \t# Calculate average training loss and accuracy\n",
    "# \taverage_loss = total_loss / len(train_loader)\n",
    "# \ttrain_hist.append(average_loss)\n",
    "\n",
    "# \t# Validation on test data\n",
    "# \tmodel.eval()\n",
    "# \twith torch.no_grad():\n",
    "# \t\ttotal_test_loss = 0.0\n",
    "\n",
    "# \t\tfor batch_X_test, batch_y_test in test_loader:\n",
    "# \t\t\tbatch_X_test, batch_y_test = batch_X_test.to(device), batch_y_test.to(device)\n",
    "\t\t\t\n",
    "# \t\t\tpredictions_test = model(batch_X_test)\n",
    "# \t\t\ttest_loss = loss_fn(predictions_test, batch_y_test)\n",
    "\n",
    "# \t\t\ttotal_test_loss += test_loss.item()\n",
    "\n",
    "# \t\t# Calculate average test loss and accuracy\n",
    "# \t\taverage_test_loss = total_test_loss / len(test_loader)\n",
    "# \t\ttest_hist.append(average_test_loss)\n",
    "# \tif (epoch+1)%10==0:\n",
    "# \t\tprint(f'Epoch [{epoch+1}/{num_epochs}] - Training Loss: {average_loss:.4f}, Test Loss: {average_test_loss:.4f}')\n"
   ]
  },
  {
   "cell_type": "code",
   "execution_count": 34,
   "metadata": {},
   "outputs": [
    {
     "data": {
      "image/png": "[encoded data removed]",
      "text/plain": [
       "<Figure size 1400x400 with 1 Axes>"
      ]
     },
     "metadata": {},
     "output_type": "display_data"
    }
   ],
   "source": [
    "x = np.linspace(1,num_epochs,num_epochs)\n",
    "plt.plot(x,train_hist,scalex=True, label=\"Training loss\")\n",
    "plt.plot(x, test_hist, label=\"Test loss\")\n",
    "plt.legend()\n",
    "plt.show()\n"
   ]
  },
  {
   "cell_type": "code",
   "execution_count": 35,
   "metadata": {},
   "outputs": [
    {
     "name": "stdout",
     "output_type": "stream",
     "text": [
      "(30, 5)\n"
     ]
    }
   ],
   "source": [
    "# Define the number of future time steps to forecast\n",
    "num_forecast_steps = 30\n",
    "\n",
    "# Convert to NumPy and remove singleton dimensions\n",
    "sequence_to_plot = X_test_seq.squeeze().cpu().numpy()\n",
    "\n",
    "# Use the last 30 data points as the starting point\n",
    "historical_data = sequence_to_plot[-1]\n",
    "print(historical_data.shape)  # (20, 5)\n",
    "\n",
    "# Initialize a list to store the forecasted values\n",
    "forecasted_values = []\n",
    "\n",
    "# Use the trained model to forecast future values\n",
    "with torch.no_grad():\n",
    "    for _ in range(num_forecast_steps):\n",
    "        # Prepare the historical_data tensor\n",
    "        historical_data_tensor = torch.tensor(historical_data).unsqueeze(0).float().to(device)  # (1, 20, 5)\n",
    "        # Use the model to predict the next value\n",
    "        predicted_value = model(historical_data_tensor).cpu().numpy()[0, 0]\n",
    "\n",
    "        # Append the predicted value to the forecasted_values list\n",
    "        forecasted_values.append(predicted_value)\n",
    "\n",
    "        # Update the historical_data sequence by removing the oldest value and adding the predicted value\n",
    "        historical_data = np.roll(historical_data, shift=-1, axis=0)\n",
    "        historical_data[-1, -1] = predicted_value  # 마지막 피처 값으로 예측 값 업데이트\n",
    "\n",
    "# Generate future dates\n",
    "last_date = test_data.index[-1]\n",
    "\n",
    "# Generate the next 30 dates\n",
    "future_dates = pd.date_range(start=last_date + pd.DateOffset(1), periods=num_forecast_steps)\n",
    "\n",
    "# Combine the historical and forecasted values for plotting\n",
    "historical_values = test_data['Close'].values[-30:]\n",
    "forecasted_values = scaler_y.inverse_transform(np.array(forecasted_values).reshape(-1, 1)).flatten()\n",
    "\n",
    "# # Define the number of future time steps to forecast\n",
    "# num_forecast_steps = 30\n",
    "\n",
    "# # Convert to NumPy and remove singleton dimensions\n",
    "# sequence_to_plot = X_test_seq.squeeze().cpu().numpy()\n",
    "\n",
    "# # Use the last data points as the starting point\n",
    "# historical_data = sequence_to_plot[-1]\n",
    "\n",
    "# # Initialize a list to store the forecasted values\n",
    "# forecasted_values = []\n",
    "\n",
    "# # Use the trained model to forecast future values\n",
    "# with torch.no_grad():\n",
    "#     for _ in range(num_forecast_steps):\n",
    "#         # Prepare the historical_data tensor\n",
    "#         historical_data_tensor = torch.as_tensor(historical_data).view(1, -1, historical_data.shape[-1]).float().to(device)\n",
    "#         # Use the model to predict the next value\n",
    "#         predicted_value = model(historical_data_tensor).cpu().numpy()[0, 0]\n",
    "\n",
    "#         # Append the predicted value to the forecasted_values list\n",
    "#         forecasted_values.append(predicted_value)\n",
    "\n",
    "#         # Update the historical_data sequence by removing the oldest value and adding the predicted value\n",
    "#         historical_data = np.roll(historical_data, shift=-1)\n",
    "#         historical_data[-1] = predicted_value\n",
    "\n",
    "# # Reverse the scaling to get the original values\n",
    "# forecasted_values = scaler_y.inverse_transform(np.array(forecasted_values).reshape(-1, 1))\n",
    "\n",
    "# # Generate future dates\n",
    "# last_date = test_data.index[-1]\n",
    "# future_dates = pd.date_range(start=last_date + pd.DateOffset(1), periods=num_forecast_steps)\n",
    "\n",
    "# # Concatenate the original index with the future dates\n",
    "# combined_index = test_data.index.append(future_dates)\n",
    "\n",
    "# # # Define the number of future time steps to forecast\n",
    "# # num_forecast_steps = 30\n",
    "\n",
    "# # # Convert to NumPy and remove singleton dimensions\n",
    "# # sequence_to_plot = X_test_seq.squeeze().cpu().numpy()\n",
    "\n",
    "# # # Use the last 30 data points as the starting point\n",
    "# # historical_data = sequence_to_plot[-1]\n",
    "# # print(historical_data.shape)  # (30, 5)\n",
    "\n",
    "# # # Initialize a list to store the forecasted values\n",
    "# # forecasted_values = []\n",
    "\n",
    "# # # Use the trained model to forecast future values\n",
    "# # with torch.no_grad():\n",
    "# #     for _ in range(num_forecast_steps):\n",
    "# #         # Prepare the historical_data tensor\n",
    "# #         historical_data_tensor = torch.tensor(historical_data).unsqueeze(0).float().to(device)  # (1, 30, 5)\n",
    "# #         # Use the model to predict the next value\n",
    "# #         predicted_value = model(historical_data_tensor).cpu().numpy()[0, 0]\n",
    "\n",
    "# #         # Append the predicted value to the forecasted_values list\n",
    "# #         forecasted_values.append(predicted_value)\n",
    "\n",
    "# #         # Update the historical_data sequence by removing the oldest value and adding the predicted value\n",
    "# #         historical_data = np.roll(historical_data, shift=-1, axis=0)\n",
    "# #         historical_data[-1, -1] = predicted_value  # 마지막 피처 값으로 예측 값 업데이트\n",
    "\n",
    "# # Generate future dates\n",
    "# last_date = test_data.index[-1]\n",
    "\n",
    "# # Generate the next 30 dates\n",
    "# future_dates = pd.date_range(start=last_date + pd.DateOffset(1), periods=num_forecast_steps)\n",
    "\n",
    "# # Combine the historical and forecasted values for plotting\n",
    "# historical_values = test_data['Close'].values[-30:]\n",
    "\n",
    "# combined_values = np.concatenate((historical_values, scaler_y.inverse_transform(np.array(forecasted_values).reshape(-1, 1)).flatten()))"
   ]
  },
  {
   "cell_type": "code",
   "execution_count": 17,
   "metadata": {},
   "outputs": [
    {
     "name": "stdout",
     "output_type": "stream",
     "text": [
      "                  Open        High         Low      Volume   Adj Close  \\\n",
      "Date                                                                     \n",
      "2023-07-03  193.779999  193.880005  191.759995  31458200.0  191.443314   \n",
      "2023-07-05  191.570007  192.979996  190.619995  46920300.0  190.319260   \n",
      "2023-07-06  189.839996  192.020004  189.199997  45094300.0  190.796722   \n",
      "2023-07-07  191.410004  192.669998  190.240005  46778000.0  189.672684   \n",
      "2023-07-10  189.259995  189.990005  187.039993  59922200.0  187.613632   \n",
      "...                ...         ...         ...         ...         ...   \n",
      "2024-06-25  209.149994  211.380005  208.610001  56713900.0  209.070007   \n",
      "2024-06-26  211.500000  214.860001  210.639999  66213200.0  213.250000   \n",
      "2024-06-27  214.690002  215.740005  212.350006  49772700.0  214.100006   \n",
      "2024-06-28  215.770004  216.070007  210.300003  82542700.0  210.619995   \n",
      "2024-07-01  212.089996  217.509995  211.919998  60402900.0  216.750000   \n",
      "\n",
      "                 Close  \n",
      "Date                    \n",
      "2023-07-03  192.460007  \n",
      "2023-07-05  191.330002  \n",
      "2023-07-06  191.809998  \n",
      "2023-07-07  190.679993  \n",
      "2023-07-10  188.610001  \n",
      "...                ...  \n",
      "2024-06-25  209.070007  \n",
      "2024-06-26  213.250000  \n",
      "2024-06-27  214.100006  \n",
      "2024-06-28  210.619995  \n",
      "2024-07-01  216.750000  \n",
      "\n",
      "[251 rows x 6 columns]\n"
     ]
    },
    {
     "data": {
      "image/png": "[encoded data removed]",
      "text/plain": [
       "<Figure size 1400x400 with 1 Axes>"
      ]
     },
     "metadata": {},
     "output_type": "display_data"
    }
   ],
   "source": [
    "# 시각화 설정\n",
    "plt.rcParams['figure.figsize'] = [14, 4]\n",
    "\n",
    "# Test data\n",
    "plt.plot(test_data.index[-100:-30], test_data['Close'][-100:-30], label='Test Data', color='blue')\n",
    "print(test_data)\n",
    "\n",
    "# Reverse the scaling transformation\n",
    "original_cases = scaler_y.inverse_transform(y_test_seq.cpu().numpy()).flatten()\n",
    "\n",
    "# The historical data used as input for forecasting\n",
    "plt.plot(test_data.index[-30:], original_cases[-30:], label='Actual Values', color='green')\n",
    "\n",
    "# Forecasted Values\n",
    "# Reverse the scaling transformation\n",
    "forecasted_cases = forecasted_values.flatten()\n",
    "\n",
    "# Plotting the forecasted values\n",
    "plt.plot(future_dates, forecasted_cases, label='Forecasted Values', color='red')\n",
    "\n",
    "plt.xlabel('Time Step')\n",
    "plt.ylabel('Close')\n",
    "plt.legend()\n",
    "plt.title('Time Series Forecasting')\n",
    "plt.grid(True)\n",
    "plt.show()"
   ]
  },
  {
   "cell_type": "code",
   "execution_count": 18,
   "metadata": {},
   "outputs": [
    {
     "name": "stdout",
     "output_type": "stream",
     "text": [
      "            Predicted Close\n",
      "2024-07-02       212.698730\n",
      "2024-07-03       197.662003\n",
      "2024-07-04       189.149612\n",
      "2024-07-05       186.456055\n",
      "2024-07-06       187.045105\n",
      "2024-07-07       187.754761\n",
      "2024-07-08       186.586060\n",
      "2024-07-09       186.297089\n",
      "2024-07-10       187.256912\n",
      "2024-07-11       187.552429\n",
      "2024-07-12       188.127213\n",
      "2024-07-13       188.560394\n",
      "2024-07-14       189.960510\n",
      "2024-07-15       191.057068\n",
      "2024-07-16       192.296890\n",
      "2024-07-17       192.429504\n",
      "2024-07-18       192.540771\n",
      "2024-07-19       192.039291\n",
      "2024-07-20       194.875961\n",
      "2024-07-21       203.261673\n",
      "2024-07-22       208.761185\n",
      "2024-07-23       209.858353\n",
      "2024-07-24       210.789124\n",
      "2024-07-25       211.158203\n",
      "2024-07-26       208.567520\n",
      "2024-07-27       205.636719\n",
      "2024-07-28       204.090805\n",
      "2024-07-29       204.149765\n",
      "2024-07-30       206.175278\n",
      "2024-07-31       208.248474\n"
     ]
    }
   ],
   "source": [
    "# predicted_july = pd.DataFrame(forecasted_values, index=future_dates, columns=['Predicted Close'])\n",
    "# print(predicted_july)"
   ]
  },
  {
   "cell_type": "code",
   "execution_count": null,
   "metadata": {},
   "outputs": [],
   "source": []
  }
 ],
 "metadata": {
  "kernelspec": {
   "display_name": "py3_11",
   "language": "python",
   "name": "python3"
  },
  "language_info": {
   "codemirror_mode": {
    "name": "ipython",
    "version": 3
   },
   "file_extension": ".py",
   "mimetype": "text/x-python",
   "name": "python",
   "nbconvert_exporter": "python",
   "pygments_lexer": "ipython3",
   "version": "3.11.9"
  }
 },
 "nbformat": 4,
 "nbformat_minor": 2
}
